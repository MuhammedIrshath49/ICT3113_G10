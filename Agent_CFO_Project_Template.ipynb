{
  "cells": [
    {
      "cell_type": "markdown",
      "metadata": {
        "id": "view-in-github",
        "colab_type": "text"
      },
      "source": [
        "<a href=\"https://colab.research.google.com/github/MuhammedIrshath49/ICT3113_G10/blob/main/Agent_CFO_Project_Template.ipynb\" target=\"_parent\"><img src=\"https://colab.research.google.com/assets/colab-badge.svg\" alt=\"Open In Colab\"/></a>"
      ]
    },
    {
      "cell_type": "markdown",
      "id": "bb8e4733",
      "metadata": {
        "id": "bb8e4733"
      },
      "source": [
        "# Agent CFO — Performance Optimization & Design\n",
        "\n",
        "---\n",
        "This is the starter notebook for your project. Follow the required structure below.\n"
      ]
    },
    {
      "cell_type": "markdown",
      "metadata": {
        "id": "a6f8a4ed"
      },
      "source": [
        "Colab integrates well with GitHub, allowing you to clone repositories, save notebooks, and share your work.\n",
        "\n",
        "**1. Cloning a Repository**\n",
        "\n",
        "You can clone a public or private GitHub repository directly into your Colab environment using the `!git clone` command. For private repositories, you'll need to provide credentials."
      ],
      "id": "a6f8a4ed"
    },
    {
      "cell_type": "code",
      "metadata": {
        "id": "dbeed6e6"
      },
      "source": [
        "# Clone a public repository\n",
        "!git clone https://github.com/tensorflow/models.git\n",
        "\n",
        "# For a private repository, you might need to use credentials\n",
        "# !git clone https://<YOUR_GITHUB_USERNAME>:<YOUR_GITHUB_TOKEN>@github.com/<USERNAME>/<REPOSITORY>.git"
      ],
      "id": "dbeed6e6",
      "execution_count": null,
      "outputs": []
    },
    {
      "cell_type": "markdown",
      "metadata": {
        "id": "5d74b9f6"
      },
      "source": [
        "**2. Saving a Notebook to GitHub**\n",
        "\n",
        "You can save your Colab notebook directly to GitHub. Go to `File > Save a copy to GitHub`. You'll be prompted to authorize Colab to access your GitHub account and then you can select the repository and commit message.\n",
        "\n",
        "**3. Loading a Notebook from GitHub**\n",
        "\n",
        "To open a notebook from GitHub, go to `File > Open notebook`. In the dialog, select the \"GitHub\" tab and enter the GitHub URL or search for the repository and notebook.\n",
        "\n",
        "**4. Authenticating with GitHub**\n",
        "\n",
        "If you need to perform actions like pushing changes to a private repository, you'll need to authenticate. You can use a Personal Access Token (PAT) with the necessary permissions. Store your PAT securely (e.g., in Colab's Secrets Manager) and use it in your commands."
      ],
      "id": "5d74b9f6"
    },
    {
      "cell_type": "code",
      "metadata": {
        "id": "11f946f8"
      },
      "source": [
        "# Example of configuring git with your name and email\n",
        "!git config --global user.email \"you@example.com\"\n",
        "!git config --global user.name \"Your Name\"\n",
        "\n",
        "# Example of using a PAT for authentication (replace with your secret name)\n",
        "# from google.colab import userdata\n",
        "# github_token = userdata.get('github_pat')\n",
        "# !git remote set-url origin https://<YOUR_GITHUB_USERNAME>:$github_token@github.com/<USERNAME>/<REPOSITORY>.git"
      ],
      "id": "11f946f8",
      "execution_count": null,
      "outputs": []
    },
    {
      "cell_type": "markdown",
      "metadata": {
        "id": "9eda7863"
      },
      "source": [
        "These are the basic steps to get you started with using GitHub in Google Colab."
      ],
      "id": "9eda7863"
    },
    {
      "cell_type": "markdown",
      "id": "wkMIj4Ssetku",
      "metadata": {
        "id": "wkMIj4Ssetku"
      },
      "source": [
        "You will design and optimize an Agent CFO assistant for a listed company. The assistant should answer finance/operations questions using RAG (Retrieval-Augmented Generation) + agentic reasoning, with response time (latency) as the primary metric.\n",
        "\n",
        "Your system must:\n",
        "*   Ingest the company’s public filings.\n",
        "*   Retrieve relevant passages efficiently.\n",
        "*   Compute ratios/trends via tool calls (calculator, table parsing).\n",
        "*   Produce answers with valid citations to the correct page/table.\n"
      ]
    },
    {
      "cell_type": "markdown",
      "id": "0c138dd7",
      "metadata": {
        "id": "0c138dd7"
      },
      "source": [
        "## 1. Config & Secrets\n",
        "\n",
        "Fill in your API keys in secrets. **Do not hardcode keys** in cells."
      ]
    },
    {
      "cell_type": "code",
      "execution_count": null,
      "id": "8a6098a4",
      "metadata": {
        "id": "8a6098a4",
        "ExecuteTime": {
          "end_time": "2025-09-30T08:55:21.268657600Z",
          "start_time": "2025-09-30T08:55:21.203754400Z"
        }
      },
      "outputs": [],
      "source": [
        "import os\n",
        "\n",
        "\n",
        "\n",
        "COMPANY_NAME = \"DBS Bank\"\n",
        "DATA_DIR = \"/content/drive/MyDrive/ICT3113 Group 10/Data\" # Define data directory here\n",
        "\n"
      ]
    },
    {
      "cell_type": "markdown",
      "metadata": {
        "id": "0ec3fd90"
      },
      "source": [
        "### API Keys and Secrets Management\n",
        "\n",
        "This project utilizes the Google Gemini API. To use it, you will need a Gemini API key.\n",
        "\n",
        "**How to obtain a Gemini API Key:**\n",
        "1.  Go to Google AI Studio ([https://aistudio.google.com/](https://aistudio.google.com/)).\n",
        "2.  Create or select a project.\n",
        "3.  Generate an API key.\n",
        "\n",
        "**How to store your API Key securely in Colab Secrets:**\n",
        "1.  In the left sidebar of your Colab notebook, click on the \"🔑 Secrets\" tab.\n",
        "2.  Click on \"Add new secret\".\n",
        "3.  For the **Name**, enter `GOOGLE_API_KEY`. This is the name the code will use to access the key.\n",
        "4.  For the **Value**, paste your Gemini API key.\n",
        "5.  Make sure the \"Notebook access\" toggle is turned ON for this secret.\n",
        "\n",
        "You can then access the secret in your code using:"
      ],
      "id": "0ec3fd90"
    },
    {
      "cell_type": "markdown",
      "id": "8b7a81e9",
      "metadata": {
        "id": "8b7a81e9"
      },
      "source": [
        "## 2. Data Download (Dropbox)\n",
        "\n",
        "*   Annual Reports: last 3–5 years.\n",
        "*   Quarterly Results Packs & MD&A (Management Discussion & Analysis).\n",
        "*   Investor Presentations and Press Releases.\n",
        "*   These files must be submitted later as a deliverable in the Dropbox data pack.\n",
        "*   Upload them under `/content/data/`.\n",
        "\n",
        "Scope limit: each team will ingest minimally 15 PDF files total.\n"
      ]
    },
    {
      "cell_type": "markdown",
      "id": "b0d4e754",
      "metadata": {
        "id": "b0d4e754"
      },
      "source": [
        "## 3. System Requirements\n",
        "\n",
        "**Retrieval & RAG**\n",
        "*   Use a vector index (e.g., FAISS, LlamaIndex) + a keyword filter (BM25/ElasticSearch).\n",
        "*   Citations must include: report name, year, page number, section/table.\n",
        "\n",
        "**Agentic Reasoning**\n",
        "*   Support at least 3 tool types: calculator, table extraction, multi-document compare.\n",
        "*   Reasoning must follow a plan-then-act pattern (not a single unstructured call).\n",
        "\n",
        "**Instrumentation**\n",
        "*   Log timings for: T_ingest, T_retrieve, T_rerank, T_reason, T_generate, T_total.\n",
        "*   Log: tokens used, cache hits, tools invoked.\n",
        "*   Record p50/p95 latencies."
      ]
    },
    {
      "cell_type": "code",
      "source": [
        "from google.colab import drive\n",
        "drive.mount('/content/drive')"
      ],
      "metadata": {
        "id": "JsE2rc9-3Ex3"
      },
      "id": "JsE2rc9-3Ex3",
      "execution_count": null,
      "outputs": []
    },
    {
      "cell_type": "code",
      "source": [
        "!pip install -q sentence-transformers faiss-cpu numpy pandas scikit-learn PyMuPDF rank-bm25 google-generativeai tqdm"
      ],
      "metadata": {
        "id": "uGS12oor3Q7o"
      },
      "id": "uGS12oor3Q7o",
      "execution_count": null,
      "outputs": []
    },
    {
      "cell_type": "code",
      "execution_count": null,
      "id": "5e08f5a0",
      "metadata": {
        "id": "5e08f5a0",
        "ExecuteTime": {
          "end_time": "2025-09-30T09:08:36.387313200Z",
          "start_time": "2025-09-30T09:08:08.875497Z"
        }
      },
      "outputs": [],
      "source": [
        "# TODO: Implement ingestion pipeline\n",
        "import os\n",
        "import time\n",
        "import pickle\n",
        "import logging\n",
        "import pandas as pd\n",
        "import numpy as np\n",
        "import json\n",
        "import re\n",
        "from typing import List, Dict, Any, Tuple\n",
        "from pathlib import Path\n",
        "\n",
        "# RAG related libararies\n",
        "import faiss\n",
        "from sentence_transformers import SentenceTransformer\n",
        "import fitz  # PyMuPDF for PDF processing\n",
        "from rank_bm25 import BM25Okapi\n",
        "import google.generativeai as genai # Gemini API for higher token limits\n",
        "\n",
        "# Initialise logging\n",
        "logging.basicConfig(level=logging.INFO)\n",
        "logger = logging.getLogger(__name__)\n",
        "\n",
        "\n",
        "# Tool for financial calculations\n",
        "class CalculatorTool:\n",
        "    def calculate_ratio(self, numerator: float, denominator: float, ratio_name: str = \"\") -> Dict[str, Any]:\n",
        "        try:\n",
        "            if denominator == 0:\n",
        "                return {\"error\": f\"Cannot calculate {ratio_name}: denominator is zero\"}\n",
        "\n",
        "            ratio = (numerator / denominator) * 100 if \"ratio\" in ratio_name.lower() else (numerator / denominator)\n",
        "            return {\n",
        "                \"ratio_name\": ratio_name,\n",
        "                \"numerator\": numerator,\n",
        "                \"denominator\": denominator,\n",
        "                \"result\": round(ratio, 2),\n",
        "                \"formula\": f\"{numerator} / {denominator}\"\n",
        "            }\n",
        "        except Exception as e:\n",
        "            return {\"error\": str(e)}\n",
        "\n",
        "    def trend_analysis(self, values: List[float], periods: List[str]) -> Dict[str, Any]:\n",
        "        if len(values) != len(periods):\n",
        "            return {\"error\": \"Values and periods must have the same length\"}\n",
        "\n",
        "        if len(values) < 2:\n",
        "            return {\"error\": \"Need at least two data points for trend analysis\"}\n",
        "\n",
        "        # Calculate period-over-period changes\n",
        "        changes = []\n",
        "        for i in range(1, len(values)):\n",
        "            if values[i-1] != 0:\n",
        "                pct_change = ((values[i] - values[i-1]) / values[i-1]) * 100\n",
        "                changes.append(round(pct_change, 2))\n",
        "            else:\n",
        "                changes.append(0)\n",
        "\n",
        "        return {\n",
        "            \"periods\": periods,\n",
        "            \"values\": values,\n",
        "            \"period_changes\": changes,\n",
        "            \"overall_trend\": \"increasing\" if values[-1] > values[0] else \"decreasing\",\n",
        "            \"average_change\": round(sum(changes) / len(changes), 2) if changes else 0\n",
        "        }\n",
        "\n",
        "\n",
        "# Tool for extracting table from dataset\n",
        "class TableExtractionTool:\n",
        "    def extract_financial_numbers(self, text: str) -> List[Dict[str, Any]]:\n",
        "        # Pattern for numbers with currency/percentage\n",
        "        patterns = [\n",
        "            r'(\\$|S\\$|USD|SGD)?\\s*(\\d{1,3}(?:,\\d{3})*(?:\\.\\d+)?)\\s*(million|billion|thousand|m|bn|k)?',\n",
        "            r'(\\d{1,3}(?:,\\d{3})*(?:\\.\\d+)?)\\s*(%|percent|basis points|bps)',\n",
        "            r'(NIM|CTI|ROE|ROA|CET1)\\s*[:=]?\\s*(\\d+(?:\\.\\d+)?)\\s*(%|bps)?'\n",
        "        ]\n",
        "\n",
        "        extracted = []\n",
        "        for pattern in patterns:\n",
        "            matches = re.finditer(pattern, text, re.IGNORECASE)\n",
        "            for match in matches:\n",
        "                extracted.append({\n",
        "                    \"text\": match.group(0),\n",
        "                    \"value\": match.group(2) if len(match.groups()) > 1 else match.group(1),\n",
        "                    \"context\": text[max(0, match.start()-50):match.end()+50]  # 50 chars before and after\n",
        "                })\n",
        "\n",
        "        return extracted\n",
        "\n",
        "    def parse_table_structure(self, text: str) -> Dict[str, Any]:\n",
        "        lines = text.split('\\n')\n",
        "        table_lines = []\n",
        "\n",
        "        for line in lines:\n",
        "            # Look for lines that might be table rows (have multiple numbers/columns)\n",
        "            if re.search(r'\\d.*\\d', line) and ('|' in line or '\\t' in line or len(re.findall(r'\\d+', line)) > 1):\n",
        "                table_lines.append(line.strip())\n",
        "\n",
        "        return {\n",
        "            \"potential_table_rows\": table_lines[:10], # Return first 10 rows\n",
        "            \"row_count\": len(table_lines)\n",
        "        }\n",
        "\n",
        "\n",
        "# Tool for comparing info across docs\n",
        "class DocumentComparisonTool:\n",
        "    def compare_metrics_across_docs(self, documents: List[Dict], metric_name: str) -> Dict[str, Any]:\n",
        "        comparisons = []\n",
        "        for doc in documents:\n",
        "            # Extract metric from document text\n",
        "            numbers = re.findall(r'\\d+(?:\\.\\d+)?', doc.get('text', ''))\n",
        "            filename = doc.get('metadata', {}).get('filename', 'unknown')\n",
        "\n",
        "            comparisons.append({\n",
        "                \"document\": filename,\n",
        "                \"metric_candidates\": numbers[:5], # Return first 5 found numbers\n",
        "                \"text_snippet\": doc.get('text', '')[:200] # First 200 chars\n",
        "            })\n",
        "\n",
        "        return {\n",
        "            \"metric_name\": metric_name,\n",
        "            \"comparisons\": comparisons\n",
        "        }\n",
        "\n",
        "# RAG functions\n",
        "class CFORAGPipeline:\n",
        "    def __init__(self, persist_dir=\"./cfo_rag_data\"):\n",
        "        self.model = SentenceTransformer('all-MiniLM-L6-v2')\n",
        "        self.persist_dir = persist_dir\n",
        "        self.documents = []\n",
        "        self.document_metadata = []\n",
        "        self.index = None\n",
        "        self.bm25 = None\n",
        "\n",
        "        # Initialise tools\n",
        "        self.calculator_tool = CalculatorTool()\n",
        "        self.table_extraction_tool = TableExtractionTool()\n",
        "        self.doc_comparison_tool = DocumentComparisonTool()\n",
        "\n",
        "        # Create directory for persistence\n",
        "        os.makedirs(self.persist_dir, exist_ok=True)\n",
        "\n",
        "        # Performance tracking\n",
        "        self.metrics = {\n",
        "            'T_ingest': 0,\n",
        "            'T_retrieve': 0,\n",
        "            'T_rerank': 0,\n",
        "            'documents_ingested': 0,\n",
        "            }\n",
        "\n",
        "        logger.info(\"Initialized CFO RAG Pipeline\")\n",
        "\n",
        "    def extract_text_from_pdf(self, pdf_path: str) -> List[Dict[str, Any]]:\n",
        "        # for document chunking\n",
        "        chunks = []\n",
        "\n",
        "        try:\n",
        "            doc = fitz.open(pdf_path)\n",
        "            filename = Path(pdf_path).stem\n",
        "\n",
        "            for page_num in range(len(doc)):\n",
        "                page = doc[page_num]\n",
        "                text = page.get_text()\n",
        "\n",
        "                if text.strip():\n",
        "                    # split by sentences/paragraphs for chunking\n",
        "                    paragraphs = text.split('\\n\\n')\n",
        "\n",
        "                    for i, paragraph in enumerate(paragraphs):\n",
        "                        if len(paragraph.strip()) > 50:\n",
        "                            chunk = {\n",
        "                                'text': paragraph.strip(),\n",
        "                                'metadata': {\n",
        "                                    'filename': filename,\n",
        "                                    'page': page_num + 1,\n",
        "                                    'chunk_id': f\"{filename}_p{page_num+1}_c{i+1}\",\n",
        "                                    'source_type': self._classify_document_type(filename)\n",
        "                                }\n",
        "                            }\n",
        "                            chunks.append(chunk)\n",
        "\n",
        "            doc.close()\n",
        "            logger.info(f\"Extracted {len(chunks)} text chunks from {pdf_path}\")\n",
        "\n",
        "        except Exception as e:\n",
        "            logger.error(f\"Error extracting text from {pdf_path}: {e}\")\n",
        "\n",
        "        return chunks\n",
        "\n",
        "    def _classify_document_type(self, filename: str) -> str:\n",
        "        # based on filename\n",
        "        filename_lower = filename.lower()\n",
        "        if 'annual' in filename_lower:\n",
        "            return 'annual_report'\n",
        "        elif any(q in filename_lower for q in ['1q', '2q', '3q', '4q', 'quarter']):\n",
        "            return 'quarterly_report'\n",
        "        elif 'performance' in filename_lower:\n",
        "            return 'performance_summary'\n",
        "        else:\n",
        "            return 'financial_report'\n",
        "\n",
        "        # document ingestion from data directory containing PDFs/datasets\n",
        "    def ingest_documents(self, data_dir: str = \"./content/data\") -> Dict[str, Any]:\n",
        "        # record time taken to ingest the documents\n",
        "        start_time = time.time()\n",
        "\n",
        "        pdf_files = list(Path(data_dir).glob(\"*.pdf\"))\n",
        "        if not pdf_files:\n",
        "            raise ValueError(f\"No PDF files found in {data_dir}\")\n",
        "\n",
        "        all_chunks = []\n",
        "\n",
        "        # process each PDF file\n",
        "        for pdf_file in pdf_files:\n",
        "            chunks = self.extract_text_from_pdf(str(pdf_file))\n",
        "            all_chunks.extend(chunks)\n",
        "\n",
        "        # separate text and metadata\n",
        "        texts = [chunk['text'] for chunk in all_chunks]\n",
        "        metadatas = [chunk['metadata'] for chunk in all_chunks]\n",
        "\n",
        "        self.documents = texts\n",
        "        self.document_metadata = metadatas\n",
        "\n",
        "        # Create embeddings\n",
        "        embeddings = self.model.encode(texts, convert_to_numpy=True, show_progress_bar=True)\n",
        "\n",
        "        # Create FAISS index\n",
        "        dimension = embeddings.shape[1]\n",
        "        self.index = faiss.IndexFlatL2(dimension)\n",
        "        self.index.add(embeddings.astype('float32'))\n",
        "\n",
        "        # create BM25 index for keyword search\n",
        "        tokenised_docs = [doc.lower().split() for doc in texts]\n",
        "        self.bm25 = BM25Okapi(tokenised_docs)\n",
        "\n",
        "        # save data\n",
        "        self._save_data()\n",
        "\n",
        "        # update metrics\n",
        "        self.metrics['T_ingest'] = time.time() - start_time\n",
        "        self.metrics['documents_ingested'] = len(texts)\n",
        "        logger.info(f\"Ingested {len(texts)} documents in {self.metrics['T_ingest']:.2f} seconds\")\n",
        "\n",
        "        return {\n",
        "            'documents_processed': len(pdf_files),\n",
        "            'chunks_created': len(texts),\n",
        "            'ingestion_duration': self.metrics['T_ingest']\n",
        "        }\n",
        "\n",
        "    # retrieve relevant documents using hybrid search\n",
        "    def hybrid_retrieve(self, query: str, top_k: int = 5) -> List[Dict[str, Any]]:\n",
        "        if not self.documents or self.index is None:\n",
        "            return []\n",
        "\n",
        "        try:\n",
        "            # --- Start retrieval timer ---\n",
        "            start_retrieve = time.time()\n",
        "\n",
        "            # Vector search\n",
        "            query_embedding = self.model.encode([query], convert_to_numpy=True)\n",
        "            vector_k = min(top_k * 2, len(self.documents))\n",
        "            distances, indices = self.index.search(query_embedding.astype('float32'), vector_k)\n",
        "\n",
        "            # BM25 keyword search\n",
        "            bm25_scores = self.bm25.get_scores(query.lower().split())\n",
        "\n",
        "            # Stop retrieval timer (only covers FAISS + BM25)\n",
        "            self.metrics['T_retrieve'] = time.time() - start_retrieve\n",
        "\n",
        "            # --- Start rerank timer ---\n",
        "            start_rerank = time.perf_counter()\n",
        "\n",
        "            combined_results = []\n",
        "            for i, idx in enumerate(indices[0]):\n",
        "                if idx < len(self.documents):\n",
        "                    vector_score = 1 / (1 + distances[0][i])\n",
        "                    bm25_score = bm25_scores[idx] if idx < len(bm25_scores) else 0\n",
        "                    combined_score = vector_score + bm25_score\n",
        "\n",
        "                    result = {\n",
        "                        'text': self.documents[idx],\n",
        "                        'metadata': self.document_metadata[idx],\n",
        "                        'combined_score': combined_score,\n",
        "                        'vector_score': vector_score,\n",
        "                        'bm25_score': bm25_score,\n",
        "                        'citation': f\"{self.document_metadata[idx]['filename']}, Page {self.document_metadata[idx]['page']}\"\n",
        "                    }\n",
        "                    combined_results.append(result)\n",
        "\n",
        "            # Sorting and taking top_k\n",
        "            combined_results.sort(key=lambda x: x['combined_score'], reverse=True)\n",
        "            final_results = combined_results[:top_k]\n",
        "\n",
        "            # Stop rerank timer (store in ms)\n",
        "            self.metrics['T_rerank'] = (time.perf_counter() - start_rerank) * 1000\n",
        "\n",
        "            return final_results\n",
        "\n",
        "        except Exception as e:\n",
        "            logger.error(f\"Error during retrieval: {e}\")\n",
        "            return []\n",
        "\n",
        "\n",
        "    def _save_data(self):\n",
        "        # Save FAISS index\n",
        "        try:\n",
        "            with open(os.path.join(self.persist_dir, 'documents.pkl'), 'wb') as f:\n",
        "                pickle.dump(self.documents, f)\n",
        "\n",
        "            with open(os.path.join(self.persist_dir, 'metadata.pkl'), 'wb') as f:\n",
        "                pickle.dump(self.document_metadata, f)\n",
        "\n",
        "            if self.index is not None:\n",
        "                faiss.write_index(self.index, os.path.join(self.persist_dir, 'faiss_index.bin'))\n",
        "\n",
        "            if self.bm25 is not None:\n",
        "                with open(os.path.join(self.persist_dir, 'bm25.pkl'), 'wb') as f:\n",
        "                    pickle.dump(self.bm25, f)\n",
        "\n",
        "            logger.info(\"Saved ingestion data to disk\")\n",
        "\n",
        "        except Exception as e:\n",
        "            logger.error(f\"Error saving data: {e}\")\n",
        "\n",
        "cfo_rag = CFORAGPipeline()\n",
        "\n",
        "# Ingest documents from data directory\n",
        "print(\"=== Starting document ingestion ===\")\n",
        "ingestion_result = cfo_rag.ingest_documents(data_dir=DATA_DIR) # Use the variable here\n",
        "print(f\"Processed: {ingestion_result['documents_processed']} PDFs\")\n",
        "print(f\"Created: {ingestion_result['chunks_created']} text chunks\")\n",
        "print(f\"Ingestion Time: {ingestion_result['ingestion_duration']:.2f} seconds\")\n",
        "\n",
        "# Test retrieval\n",
        "test_query = \"Net Interest Margin trend over the past 3 years\"\n",
        "retrieved_docs = cfo_rag.hybrid_retrieve(test_query, top_k=3)\n",
        "\n",
        "print(f\"\\n=== Retrieval Test ===\")\n",
        "print(f\"Query: {test_query}\")\n",
        "print(f\"Retrieved {len(retrieved_docs)} documents:\")\n",
        "\n",
        "\n",
        "if retrieved_docs:\n",
        "    for i, doc in enumerate(retrieved_docs, 1):\n",
        "        print(f\"\\nDocument {i}: {doc['citation']}\")\n",
        "        print(f\"Combined Score: {doc['combined_score']:.4f}\")\n",
        "        print(f\"Text Preview: {doc['text'][:150].replace(chr(10), ' ')}...\")  # Print first 150 chars\n",
        "else:\n",
        "    print(\"No documents retrieved.\")"
      ]
    },
    {
      "cell_type": "markdown",
      "id": "6ffb05fc",
      "metadata": {
        "id": "6ffb05fc"
      },
      "source": [
        "## 4. Baseline Pipeline\n",
        "\n",
        "**Baseline (starting point)**\n",
        "*   Naive chunking.\n",
        "*   Single-pass vector search.\n",
        "*   One LLM call, no caching."
      ]
    },
    {
      "cell_type": "code",
      "execution_count": null,
      "id": "540b7020",
      "metadata": {
        "id": "540b7020",
        "ExecuteTime": {
          "end_time": "2025-09-30T09:09:29.110581200Z",
          "start_time": "2025-09-30T09:08:44.027346100Z"
        }
      },
      "outputs": [],
      "source": [
        "# TODO: Implement baseline retrieval + generation\n",
        "# =============================\n",
        "# Part 4. Baseline Pipeline\n",
        "# =============================\n",
        "import os\n",
        "import google.generativeai as genai\n",
        "from google.colab import userdata\n",
        "\n",
        "# Configure Gemini using Colab secrets\n",
        "GOOGLE_API_KEY = userdata.get('GOOGLE_API_KEY')\n",
        "genai.configure(api_key=GOOGLE_API_KEY)\n",
        "\n",
        "# Load model\n",
        "llm_model = genai.GenerativeModel(\"gemini-2.5-flash\")\n",
        "\n",
        "\n",
        "def baseline_pipeline(query: str, top_k: int = 5):\n",
        "    \"\"\"\n",
        "    Runs naive RAG pipeline: retrieval + single LLM call.\n",
        "    \"\"\"\n",
        "    # Retrieve relevant docs\n",
        "    retrieved_docs = cfo_rag.hybrid_retrieve(query, top_k=top_k)\n",
        "    if not retrieved_docs:\n",
        "        return {\"error\": \"No documents retrieved.\"}\n",
        "\n",
        "    # Build context\n",
        "    context = \"\\n\\n\".join([f\"{doc['citation']}: {doc['text']}\" for doc in retrieved_docs])\n",
        "\n",
        "    # Prompt\n",
        "    prompt = f\"\"\"\n",
        "You are a financial analyst assistant.\n",
        "Answer the user query based only on the provided reports.\n",
        "Include citations (filename + page).\n",
        "\n",
        "Query: {query}\n",
        "\n",
        "Reports:\n",
        "{context}\n",
        "\"\"\"\n",
        "    # Call LLM\n",
        "    response = llm_model.generate_content(prompt)\n",
        "\n",
        "    return {\n",
        "        \"query\": query,\n",
        "        \"citations\": [doc[\"citation\"] for doc in retrieved_docs],\n",
        "        \"raw_docs\": [doc[\"text\"][:300] for doc in retrieved_docs],  # preview only\n",
        "        \"answer\": response.text.strip()\n",
        "    }\n",
        "\n",
        "# 🔹 Example run\n",
        "result = baseline_pipeline(\"Net Interest Margin trend over the past 3 years\", top_k=3)\n",
        "print(\"=== Baseline Answer ===\")\n",
        "print(result[\"answer\"])\n",
        "print(\"\\nCitations:\", result[\"citations\"])"
      ]
    },
    {
      "cell_type": "markdown",
      "id": "01e9e3ea",
      "metadata": {
        "id": "01e9e3ea"
      },
      "source": [
        "## 5. Benchmark Runner\n",
        "\n",
        "Run these 3 standardized queries. Produce JSON then prose answers with citations. These are the standardized queries.\n",
        "\n",
        "*   Net Interest Margin (NIM) trend over last 5 quarters, values and 1–2 lines of explanation.\n",
        "    *   Expected: quarterly financial highlights.\n",
        "*   Operating Expenses (Opex) YoY for last 3 years; top 3 drivers from MD&A.\n",
        "    *   Expected: Opex table + MD&A commentary.\n",
        "*   Cost-to-Income Ratio (CTI) for last 3 years; show working + implications.\n",
        "    *   Expected: Operating Income & Opex lines.\n"
      ]
    },
    {
      "cell_type": "code",
      "execution_count": null,
      "id": "e7bddc40",
      "metadata": {
        "id": "e7bddc40",
        "ExecuteTime": {
          "end_time": "2025-09-30T09:11:32.887486200Z",
          "start_time": "2025-09-30T09:09:32.019818900Z"
        }
      },
      "outputs": [],
      "source": [
        "# TODO: Implement benchmark runner\n",
        "# =============================\n",
        "# Part 5. Benchmark Runner\n",
        "# =============================\n",
        "\n",
        "benchmark_queries = [\n",
        "    {\n",
        "        \"name\": \"NIM Trend\",\n",
        "        \"query\": \"Net Interest Margin (NIM) trend over last 5 quarters, values and 1–2 lines of explanation.\",\n",
        "        \"expected\": \"Quarterly financial highlights\"\n",
        "    },\n",
        "    {\n",
        "        \"name\": \"Opex YoY\",\n",
        "        \"query\": \"Operating Expenses (Opex) YoY for last 3 years; top 3 drivers from MD&A.\",\n",
        "        \"expected\": \"Opex table + MD&A commentary\"\n",
        "    },\n",
        "    {\n",
        "        \"name\": \"Cost-to-Income Ratio\",\n",
        "        \"query\": \"Cost-to-Income Ratio (CTI) for last 3 years; show working + implications.\",\n",
        "        \"expected\": \"Operating Income & Opex lines\"\n",
        "    }\n",
        "]\n",
        "\n",
        "# =============================\n",
        "# Benchmark Runner with Instrumentation\n",
        "# =============================\n",
        "\n",
        "def run_benchmark_instrumented(queries, top_k=5):\n",
        "    results = []\n",
        "    for q in queries:\n",
        "        print(f\"\\n=== Running Benchmark: {q['name']} ===\")\n",
        "        output = instrumented_pipeline(q[\"query\"], top_k=top_k)\n",
        "        results.append({\n",
        "            \"name\": q[\"name\"],\n",
        "            \"query\": q[\"query\"],\n",
        "            \"expected\": q[\"expected\"],\n",
        "            \"citations\": output.get(\"citations\", []),\n",
        "            \"answer\": output.get(\"answer\", \"Error: no answer\")\n",
        "        })\n",
        "    return results\n",
        "\n",
        "# 🔹 Run the benchmarks\n",
        "benchmark_results = run_benchmark_instrumented(benchmark_queries, top_k=5)\n",
        "\n",
        "# Show answers\n",
        "for res in benchmark_results:\n",
        "    print(f\"\\n=== {res['name']} ===\")\n",
        "    print(f\"Query: {res['query']}\")\n",
        "    print(f\"Answer: {res['answer']}\\n\")\n",
        "    print(f\"Citations: {res['citations']}\")\n"
      ]
    },
    {
      "cell_type": "code",
      "metadata": {
        "id": "64dbe015"
      },
      "source": [
        "# Define instrumented pipeline and benchmark runner functions\n",
        "import pandas as pd\n",
        "import time\n",
        "from tabulate import tabulate\n",
        "\n",
        "# Make sure logs DataFrame is accessible (if not defined globally elsewhere)\n",
        "try:\n",
        "    logs\n",
        "except NameError:\n",
        "    logs = pd.DataFrame(columns=[\n",
        "        'Query',\n",
        "        'T_ingest (sec)', 'T_retrieve (sec)', 'T_rerank (ms)', 'T_reason (sec)',\n",
        "        'T_generate (sec)', 'T_total (sec)',\n",
        "        'Tokens', 'CacheHits', 'Tools'\n",
        "    ])\n",
        "\n",
        "\n",
        "def instrumented_pipeline(query: str, top_k: int = 5):\n",
        "    \"\"\"\n",
        "    Runs pipeline with instrumentation (timing + usage logging).\n",
        "    \"\"\"\n",
        "    global logs\n",
        "    timings = {}\n",
        "    start_total = time.time()\n",
        "\n",
        "    # --- Retrieval ---\n",
        "    retrieved_docs = cfo_rag.hybrid_retrieve(query, top_k=top_k)\n",
        "    timings['T_retrieve'] = cfo_rag.metrics.get('T_retrieve', 0)\n",
        "    timings['T_rerank']  = cfo_rag.metrics.get('T_rerank', 0)  # already in ms\n",
        "\n",
        "\n",
        "    if not retrieved_docs:\n",
        "        return {\"error\": \"No documents retrieved.\"}\n",
        "\n",
        "    # --- Build context ---\n",
        "    context = \"\\n\\n\".join([f\"{doc['citation']}: {doc['text']}\" for doc in retrieved_docs])\n",
        "\n",
        "    # --- Reasoning step ---\n",
        "    start_reason = time.time()\n",
        "    reasoning_prompt = f\"\"\"\n",
        "    Summarize the key financial figures and trends in a structured way.\n",
        "    Do not generate the final answer yet.\n",
        "\n",
        "    Query: {query}\n",
        "    Reports:\n",
        "    {context}\n",
        "    \"\"\"\n",
        "    reasoning_output = llm_model.generate_content(reasoning_prompt)\n",
        "    timings['T_reason'] = time.time() - start_reason\n",
        "\n",
        "    # --- Generation step ---\n",
        "    start_generate = time.time()\n",
        "    final_prompt = f\"\"\"\n",
        "    You are a financial analyst assistant.\n",
        "    Based on the reasoning and reports, provide the final answer with citations.\n",
        "\n",
        "    Reasoning:\n",
        "    {reasoning_output.text}\n",
        "\n",
        "    Query: {query}\n",
        "    \"\"\"\n",
        "    response = llm_model.generate_content(final_prompt)\n",
        "    timings['T_generate'] = time.time() - start_generate\n",
        "\n",
        "    # --- Total ---\n",
        "    timings['T_total'] = time.time() - start_total\n",
        "\n",
        "    # --- Log row ---\n",
        "    new_row = {\n",
        "        'Query': query,\n",
        "        'T_ingest (sec)': cfo_rag.metrics.get('T_ingest', 0),\n",
        "        'T_retrieve (sec)': timings['T_retrieve'],\n",
        "        'T_rerank (ms)': timings['T_rerank'],\n",
        "        'T_reason (sec)': timings['T_reason'],\n",
        "        'T_generate (sec)': timings['T_generate'],\n",
        "        'T_total (sec)': timings['T_total'],\n",
        "        'Tokens': None, # Placeholder\n",
        "        'CacheHits': 0, # Placeholder\n",
        "        'Tools': ['Retriever', 'Reranker', 'LLM'] # Placeholder\n",
        "    }\n",
        "    logs = pd.concat([logs, pd.DataFrame([new_row])], ignore_index=True)\n",
        "\n",
        "    # --- Print per-query summary ---\n",
        "    summary = [\n",
        "        [\"Retrieve\", f\"{timings['T_retrieve']:.4f} sec\"],\n",
        "        [\"Rerank\",   f\"{timings['T_rerank']:.3f} ms\"],\n",
        "        [\"Reason\",   f\"{timings['T_reason']:.4f} sec\"],\n",
        "        [\"Generate\", f\"{timings['T_generate']:.4f} sec\"],\n",
        "        [\"Total\",    f\"{timings['T_total']:.4f} sec\"],\n",
        "    ]\n",
        "    print(f\"\\n=== Timing Summary for Query: {query} ===\")\n",
        "    print(tabulate(summary, headers=[\"Stage\", \"Time\"], tablefmt=\"github\"))\n",
        "\n",
        "\n",
        "    return {\n",
        "        \"query\": query,\n",
        "        \"citations\": [doc[\"citation\"] for doc in retrieved_docs],\n",
        "        \"reasoning\": reasoning_output.text.strip(),\n",
        "        \"answer\": response.text.strip()\n",
        "    }\n",
        "\n",
        "\n",
        "def run_benchmark_instrumented(queries, top_k=5):\n",
        "    results = []\n",
        "    for q in queries:\n",
        "        print(f\"\\n=== Running Instrumented Benchmark: {q['name']} ===\")\n",
        "        output = instrumented_pipeline(q[\"query\"], top_k=top_k)\n",
        "        results.append({\n",
        "            \"name\": q[\"name\"],\n",
        "            \"query\": q[\"query\"],\n",
        "            \"expected\": q[\"expected\"],\n",
        "            \"citations\": output.get(\"citations\", []),\n",
        "            \"reasoning\": output.get(\"reasoning\", \"N/A\"),\n",
        "            \"answer\": output.get(\"answer\", \"Error: no answer\")\n",
        "        })\n",
        "    return results"
      ],
      "id": "64dbe015",
      "execution_count": null,
      "outputs": []
    },
    {
      "cell_type": "markdown",
      "id": "683ebeda",
      "metadata": {
        "id": "683ebeda"
      },
      "source": [
        "## 6. Instrumentation\n",
        "\n",
        "Log timings: T_ingest, T_retrieve, T_rerank, T_reason, T_generate, T_total. Log tokens, cache hits, tools."
      ]
    },
    {
      "cell_type": "code",
      "execution_count": null,
      "id": "d5425de5",
      "metadata": {
        "id": "d5425de5",
        "ExecuteTime": {
          "end_time": "2025-09-30T09:13:04.577246400Z",
          "start_time": "2025-09-30T09:11:32.887486200Z"
        }
      },
      "outputs": [],
      "source": [
        "# =============================\n",
        "# Part 6. Instrumentation (Final Version)\n",
        "# =============================\n",
        "\n",
        "import pandas as pd\n",
        "import time\n",
        "from tabulate import tabulate  # pretty summary tables\n",
        "\n",
        "# Create logs DataFrame\n",
        "logs = pd.DataFrame(columns=[\n",
        "    'Query',\n",
        "    'T_ingest (sec)', 'T_retrieve (sec)', 'T_rerank (ms)', 'T_reason (sec)',\n",
        "    'T_generate (sec)', 'T_total (sec)',\n",
        "    'Tokens', 'CacheHits', 'Tools'\n",
        "])\n",
        "\n",
        "# 🔹 Run instrumented benchmarks\n",
        "benchmark_results_instrumented = run_benchmark_instrumented(benchmark_queries, top_k=5)\n",
        "\n",
        "# 🔹 Show instrumentation logs (DataFrame)\n",
        "logs"
      ]
    },
    {
      "cell_type": "markdown",
      "metadata": {
        "id": "722d86ce"
      },
      "source": [
        "### Running Baseline Pipeline (Part 4)"
      ],
      "id": "722d86ce"
    },
    {
      "cell_type": "code",
      "metadata": {
        "id": "67d3e343"
      },
      "source": [
        "# Run the baseline pipeline example\n",
        "result = baseline_pipeline(\"Net Interest Margin trend over the past 3 years\", top_k=3)\n",
        "print(\"=== Baseline Answer ===\")\n",
        "print(result[\"answer\"])\n",
        "print(\"\\nCitations:\", result[\"citations\"])"
      ],
      "id": "67d3e343",
      "execution_count": null,
      "outputs": []
    },
    {
      "cell_type": "markdown",
      "metadata": {
        "id": "a643fe34"
      },
      "source": [
        "### Running Instrumented Benchmark (Part 5)"
      ],
      "id": "a643fe34"
    },
    {
      "cell_type": "code",
      "metadata": {
        "id": "3163da73"
      },
      "source": [
        "# Run the instrumented benchmarks\n",
        "benchmark_results_instrumented = run_benchmark_instrumented(benchmark_queries, top_k=5)\n",
        "\n",
        "# Show instrumentation logs (DataFrame)\n",
        "display(logs)"
      ],
      "id": "3163da73",
      "execution_count": null,
      "outputs": []
    },
    {
      "cell_type": "markdown",
      "id": "e8c01bf4",
      "metadata": {
        "id": "e8c01bf4"
      },
      "source": [
        "## 7. Optimizations\n",
        "\n",
        "**Required Optimizations**\n",
        "\n",
        "Each team must implement at least:\n",
        "*   2 retrieval optimizations (e.g., hybrid BM25+vector, smaller embeddings, dynamic k).\n",
        "*   1 caching optimization (query cache or ratio cache).\n",
        "*   1 agentic optimization (plan pruning, parallel sub-queries).\n",
        "*   1 system optimization (async I/O, batch embedding, memory-mapped vectors)."
      ]
    },
    {
      "cell_type": "code",
      "execution_count": null,
      "id": "783f0e2e",
      "metadata": {
        "id": "783f0e2e",
        "ExecuteTime": {
          "end_time": "2025-09-30T08:58:38.646714Z",
          "start_time": "2025-09-30T08:58:38.639026800Z"
        }
      },
      "outputs": [],
      "source": [
        "# TODO: Implement optimizations\n"
      ]
    },
    {
      "cell_type": "markdown",
      "id": "a91ce833",
      "metadata": {
        "id": "a91ce833"
      },
      "source": [
        "## 8. Results & Plots\n",
        "\n",
        "Show baseline vs optimized. Include latency plots (p50/p95) and accuracy tables."
      ]
    },
    {
      "cell_type": "code",
      "execution_count": null,
      "id": "d96550f3",
      "metadata": {
        "id": "d96550f3",
        "ExecuteTime": {
          "end_time": "2025-09-30T08:58:38.648719100Z",
          "start_time": "2025-09-30T08:58:38.642546300Z"
        }
      },
      "outputs": [],
      "source": [
        "# TODO: Generate plots with matplotlib\n"
      ]
    },
    {
      "cell_type": "markdown",
      "id": "s2am56tlpjY9",
      "metadata": {
        "id": "s2am56tlpjY9"
      },
      "source": [
        "testing"
      ]
    }
  ],
  "metadata": {
    "colab": {
      "provenance": [],
      "include_colab_link": true
    },
    "kernelspec": {
      "name": "python3",
      "language": "python",
      "display_name": "Python 3 (ipykernel)"
    },
    "language_info": {
      "codemirror_mode": {
        "name": "ipython",
        "version": 3
      },
      "file_extension": ".py",
      "mimetype": "text/x-python",
      "name": "python",
      "nbconvert_exporter": "python",
      "pygments_lexer": "ipython3",
      "version": "3.11.5"
    }
  },
  "nbformat": 4,
  "nbformat_minor": 5
}